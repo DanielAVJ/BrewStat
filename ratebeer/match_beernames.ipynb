{
 "cells": [
  {
   "cell_type": "code",
   "execution_count": 6,
   "metadata": {
    "collapsed": false
   },
   "outputs": [],
   "source": [
    "import numpy as np\n",
    "import pandas as pd\n",
    "import json\n",
    "path = \"../punkapi/data/INFOS.csv\"\n",
    "infos = pd.read_csv(path, quotechar='\"')"
   ]
  },
  {
   "cell_type": "code",
   "execution_count": 7,
   "metadata": {
    "collapsed": true
   },
   "outputs": [],
   "source": [
    "with open(\"first5beers.json\") as jsonfile:\n",
    "    ratings = json.load(jsonfile)\n"
   ]
  },
  {
   "cell_type": "code",
   "execution_count": 9,
   "metadata": {
    "collapsed": false
   },
   "outputs": [
    {
     "data": {
      "text/plain": [
       "{'/beer/beer-here-htas2r38/111292/': {'ABV': '8.5%',\n",
       "  'Brewery Name': 'Beer Here',\n",
       "  'EST. CALORIES': '255',\n",
       "  'MEAN: ': '3.53',\n",
       "  'Name': 'Beer Here hTAS2R38',\n",
       "  'RATINGS:': '10',\n",
       "  'Serve in': 'Shaker',\n",
       "  'Style': 'Imperial IPA',\n",
       "  'UTC timestamp': '2016-04-25 21:23:11.140084',\n",
       "  'WEIGHTED AVG: ': '3.23'},\n",
       " '/beer/brewdog--2cabecas-hello-my-name-is-ze/262103/': {'ABV': '6.4%',\n",
       "  'Brewery Name': 'BrewDog',\n",
       "  'Commercial Description': 'keg and bottle,special\\r\\nHello My Name is Ze is the latest in our fruit infused international IPA series; this is a passionfruit infused IPA brewed for Brazil! You can expect Punk multiplied by Jack Hammer, divided by passionfruit with some Brazilian spirit factored in too. A collaboration with the amazing 2Cabecas brewers from Brazil, this beer will be available on draft.',\n",
       "  'EST. CALORIES': '192',\n",
       "  'Name': 'BrewDog / 2cabeças Hello My Name is Zé',\n",
       "  'RATINGS:': '66',\n",
       "  'Serve in': 'Shaker',\n",
       "  'Style': 'India Pale Ale (IPA)',\n",
       "  'UTC timestamp': '2016-04-25 21:23:16.590395',\n",
       "  'WEIGHTED AVG: ': '3.54'},\n",
       " '/beer/brewdog-mashtag-2013/215065/': {'ABV': '7.5%',\n",
       "  'Brewery Name': 'BrewDog',\n",
       "  'Commercial Description': 'keg and bottled, special\\r\\nInspired by the passion, knowledge and enthusiasm of craft beer drinkers, we set out to create a truly democratic craft beer. We entrusted all the important decisions to our fans, customers and anyone who wanted to learn more about the craft brewing process and cast their vote. We gave up complete control of every single decision which shaped the final beer that the #MashTag project produced.\\r\\n#MashTag is a 7.5% American Brown Ale loaded with New Zealand hops and aged on Hazelnuts and Oak chips.',\n",
       "  'EST. CALORIES': '225',\n",
       "  'IBU': '95',\n",
       "  'Name': 'BrewDog #MashTag 2013',\n",
       "  'RATINGS:': '255',\n",
       "  'Serve in': 'Dimpled mug',\n",
       "  'Style': 'Brown Ale',\n",
       "  'UTC timestamp': '2016-04-25 21:23:12.577166',\n",
       "  'WEIGHTED AVG: ': '3.55'},\n",
       " '/beer/brewdog-mashtag-2014/269252/': {'ABV': '9%',\n",
       "  'Brewery Name': 'BrewDog',\n",
       "  'Commercial Description': 'bottle & keg,special\\r\\n#Mashtag 2014 - a beer for the people, by the people.\\r\\n\\r\\nThe #Mashtag concept is simple. We invited the public to vote on each aspect of the brew, from hops to malt to the special twist and even the label design, and from the thousands of possibilities this presented, the result is an imperial red ale, brewed with copious speciality malts, a global blend of hops, and blood orange, lemon peel and orange peel.\\r\\n\\r\\nOn the nose, there\\x92s a riot of citrus, in many forms, from orange pith to lemon zest, via lime juice and even lemongrass. Fresh, bright resinous notes blend with light toasty malt aromas.\\r\\n\\r\\nThe palate is intense with toffee, with tiny hints of tobacco smoke coming through in little bursts, but the star attraction is an all-out bitter orange avalanche. A slightly psychotic, orange-that-thinks-it\\x92s-a-grapefruit character builds upon and intensifies the hop bitterness, squaring up against the rich sweet malt base. The result is a huge red ale with a drinkable quality you\\x92d expect in a beer half this strength. ',\n",
       "  'EST. CALORIES': '270',\n",
       "  'IBU': '65',\n",
       "  'Name': 'BrewDog #MashTag 2014',\n",
       "  'RATINGS:': '206',\n",
       "  'Serve in': 'Snifter',\n",
       "  'Style': 'American Strong Ale',\n",
       "  'UTC timestamp': '2016-04-25 21:23:14.007248',\n",
       "  'WEIGHTED AVG: ': '3.68'},\n",
       " '/beer/brewdog-mashtag-2015/349260/': {'ABV': '10%',\n",
       "  'Brewery Name': 'BrewDog',\n",
       "  'Commercial Description': 'Black Barley Wine with vanilla beans aged on toasted oak chips. Label design by Mark Green.',\n",
       "  'EST. CALORIES': '300',\n",
       "  'IBU': '85',\n",
       "  'Name': 'BrewDog #MashTag 2015',\n",
       "  'RATINGS:': '202',\n",
       "  'Serve in': 'Snifter',\n",
       "  'Style': 'Barley Wine',\n",
       "  'UTC timestamp': '2016-04-25 21:23:15.160313',\n",
       "  'WEIGHTED AVG: ': '3.71'}}"
      ]
     },
     "execution_count": 9,
     "metadata": {},
     "output_type": "execute_result"
    }
   ],
   "source": [
    "ratings"
   ]
  }
 ],
 "metadata": {
  "kernelspec": {
   "display_name": "Python 3",
   "language": "python",
   "name": "python3"
  },
  "language_info": {
   "codemirror_mode": {
    "name": "ipython",
    "version": 3
   },
   "file_extension": ".py",
   "mimetype": "text/x-python",
   "name": "python",
   "nbconvert_exporter": "python",
   "pygments_lexer": "ipython3",
   "version": "3.5.1"
  }
 },
 "nbformat": 4,
 "nbformat_minor": 0
}
